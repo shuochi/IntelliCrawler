{
 "cells": [
  {
   "cell_type": "code",
   "execution_count": null,
   "metadata": {},
   "outputs": [],
   "source": [
    "import argparse\n",
    "\n",
    "from focused_crawler import Focused_Crawler_Reinforcement_Learning\n",
    "from ground_truth import Ground_Truth"
   ]
  },
  {
   "cell_type": "code",
   "execution_count": null,
   "metadata": {},
   "outputs": [],
   "source": [
    "parser = argparse.ArgumentParser(description='Focused Crawler')\n",
    "# input\n",
    "parser.add_argument('--seeds', default=['https://cs.illinois.edu/'], help='the start \\\n",
    "                    domains for crawling')\n",
    "parser.add_argument('--limit_pages', default=30, help='the maximum \\\n",
    "                    websites to visit')\n",
    "parser.add_argument('--topics', default='artificial intelligence', help='target \\\n",
    "                    topics')\n",
    "# Q learning parameters\n",
    "parser.add_argument('--epsilon', default=0.1, help='epsilon-greedy policy')\n",
    "parser.add_argument('--alpha', default=0.01, help='learning rate')\n",
    "parser.add_argument('--gamma', default=0.9, help='discount rate')\n",
    "# change of relevance\n",
    "parser.add_argument('--beta', default=0.5, help='relevance change of target topics')\n",
    "parser.add_argument('--sigma1', default=0.1, help='first difference parameter')\n",
    "parser.add_argument('--sigma2', default=0.3, help='second difference parameter')\n",
    "parser.add_argument('--level', default=3, help='recursively update child for some \\\n",
    "                    levels, may update a page twice')\n",
    "# relevant threshold\n",
    "parser.add_argument('--relevant', default=0.8, help='the page whose relevance \\\n",
    "                    higher than this value is regarded as relevant page')\n",
    "# reward\n",
    "parser.add_argument('--reward_true', default=30, help='the reward when page \\\n",
    "                    is relevant')\n",
    "parser.add_argument('--reward_false', default=-1, help='the reward when page \\\n",
    "                    is not relevant')\n",
    "# mode\n",
    "parser.add_argument('--synchronization', default=0, help='the way to \\\n",
    "                    update the value in queue. mode 0, 1, 2 represent: \\\n",
    "                    synchronous, asynchronous, moderated')\n",
    "\n",
    "args = parser.parse_args([])\n",
    "Focused_Crawler = Focused_Crawler_Reinforcement_Learning(args)\n",
    "# Focused_Crawler.train()\n",
    "\n",
    "# key_word = 'artificial intelligence'\n",
    "# ground_truth = Ground_Truth(key_word, 1000)\n",
    "# Focused_Crawler.test(ground_truth)"
   ]
  },
  {
   "cell_type": "code",
   "execution_count": null,
   "metadata": {},
   "outputs": [],
   "source": []
  }
 ],
 "metadata": {
  "kernelspec": {
   "display_name": "Python 3",
   "language": "python",
   "name": "python3"
  },
  "language_info": {
   "codemirror_mode": {
    "name": "ipython",
    "version": 3
   },
   "file_extension": ".py",
   "mimetype": "text/x-python",
   "name": "python",
   "nbconvert_exporter": "python",
   "pygments_lexer": "ipython3",
   "version": "3.7.1"
  }
 },
 "nbformat": 4,
 "nbformat_minor": 2
}
