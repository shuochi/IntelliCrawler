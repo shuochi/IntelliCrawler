{
 "cells": [
  {
   "cell_type": "code",
   "execution_count": 1,
   "metadata": {},
   "outputs": [],
   "source": [
    "from azure.cognitiveservices.search.websearch import WebSearchAPI\n",
    "from azure.cognitiveservices.search.websearch.models import SafeSearch\n",
    "from msrest.authentication import CognitiveServicesCredentials"
   ]
  },
  {
   "cell_type": "code",
   "execution_count": 2,
   "metadata": {},
   "outputs": [],
   "source": [
    "subscription_key = \"303c93e3970f4bfca81f44a53f5c58f5\"\n",
    "client = WebSearchAPI(CognitiveServicesCredentials(subscription_key))"
   ]
  },
  {
   "cell_type": "code",
   "execution_count": 5,
   "metadata": {},
   "outputs": [
    {
     "name": "stdout",
     "output_type": "stream",
     "text": [
      "\n",
      "Searched for Query# chengxiang zhai site:illinois.edu\n",
      "\n",
      "Webpage Results#5\n",
      "First web page name: ChengXiang Zhai - Home Page \n",
      "First web page URL: http://czhai.cs.illinois.edu/ \n",
      "First web page name: Chengxiang Zhai — University of Illinois at Urbana-Champaign \n",
      "First web page URL: https://experts.illinois.edu/en/persons/chengxiang-zhai \n",
      "First web page name: ChengXiang Zhai - ischool.illinois.edu \n",
      "First web page URL: https://ischool.illinois.edu/people/chengxiang-zhai \n",
      "First web page name: Chengxiang Zhai | Statistics at Illinois \n",
      "First web page URL: https://stat.illinois.edu/directory/profile/czhai \n",
      "First web page name: Chengxiang Zhai – Research Output — University of Illinois ... \n",
      "First web page URL: https://experts.illinois.edu/en/persons/chengxiang-zhai/publications/ \n"
     ]
    }
   ],
   "source": [
    "search = 'chengxiang zhai site:illinois.edu'\n",
    "web_data = client.web.search(query=search, response_filter=['Webpages'], client_ip='130.126.255.152', count=5)\n",
    "print('\\nSearched for Query# {}'.format(search))\n",
    "\n",
    "'''\n",
    "Web pages\n",
    "If the search response contains web pages, the first result's name and url\n",
    "are printed.\n",
    "'''\n",
    "if hasattr(web_data.web_pages, 'value'):\n",
    "\n",
    "    print(\"\\nWebpage Results#{}\".format(len(web_data.web_pages.value)))\n",
    "    \n",
    "    for page in web_data.web_pages.value:\n",
    "        print(\"First web page name: {} \".format(page.name))\n",
    "        print(\"First web page URL: {} \".format(page.url))\n",
    "\n",
    "else:\n",
    "    print(\"Didn't find any web pages...\")"
   ]
  },
  {
   "cell_type": "code",
   "execution_count": null,
   "metadata": {},
   "outputs": [],
   "source": []
  }
 ],
 "metadata": {
  "kernelspec": {
   "display_name": "Python 3",
   "language": "python",
   "name": "python3"
  },
  "language_info": {
   "codemirror_mode": {
    "name": "ipython",
    "version": 3
   },
   "file_extension": ".py",
   "mimetype": "text/x-python",
   "name": "python",
   "nbconvert_exporter": "python",
   "pygments_lexer": "ipython3",
   "version": "3.7.1"
  }
 },
 "nbformat": 4,
 "nbformat_minor": 2
}
